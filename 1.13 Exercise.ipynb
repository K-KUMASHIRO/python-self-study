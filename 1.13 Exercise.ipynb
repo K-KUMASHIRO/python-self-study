{
 "cells": [
  {
   "cell_type": "markdown",
   "metadata": {},
   "source": [
    "# 1.13 Exercise"
   ]
  },
  {
   "cell_type": "markdown",
   "metadata": {},
   "source": [
    "理論上はlow stateにいる割合が2/3に収束していく"
   ]
  },
  {
   "cell_type": "code",
   "execution_count": 32,
   "metadata": {
    "collapsed": false
   },
   "outputs": [
    {
     "data": {
      "text/plain": [
       "array([[ 0.33333333,  0.66666667],\n",
       "       [ 0.33333333,  0.66666667]])"
      ]
     },
     "execution_count": 32,
     "metadata": {},
     "output_type": "execute_result"
    }
   ],
   "source": [
    "import numpy as np\n",
    "\n",
    "P = [[0.8, 0.2],[0.1, 0.9]]\n",
    "P = np.array(P)\n",
    "\n",
    "for i in range(20):\n",
    "    P = P.dot(P)\n",
    "P"
   ]
  },
  {
   "cell_type": "markdown",
   "metadata": {},
   "source": [
    "ループ回数が多いと発散する．浮動小数点の問題？"
   ]
  },
  {
   "cell_type": "code",
   "execution_count": null,
   "metadata": {
    "collapsed": true
   },
   "outputs": [],
   "source": [
    "import numpy as np\n",
    "import matplotlib.pyplot as plt\n",
    "\n",
    "n = 10\n",
    "\n",
    "P = [[0.8, 0.2],[0.1, 0.9]]\n",
    "P = np.array(P)\n",
    "for i in range(n):\n",
    "    P = P.dot(P)\n",
    "\n",
    "fig, ax = plt.subplots()\n",
    "x = range(n)\n"
   ]
  },
  {
   "cell_type": "code",
   "execution_count": 3,
   "metadata": {
    "collapsed": false
   },
   "outputs": [
    {
     "data": {
      "text/plain": [
       "array([[ inf,  inf],\n",
       "       [ inf,  inf]])"
      ]
     },
     "execution_count": 3,
     "metadata": {},
     "output_type": "execute_result"
    }
   ],
   "source": [
    "import numpy as np\n",
    "\n",
    "P = [[0.8, 0.2],[0.1, 0.9]]\n",
    "P = np.array(P)\n",
    "P\n",
    "\n",
    "for i in range(100):\n",
    "    P = P.dot(P)\n",
    "P"
   ]
  },
  {
   "cell_type": "code",
   "execution_count": 24,
   "metadata": {
    "collapsed": true
   },
   "outputs": [],
   "source": [
    "from random import uniform\n",
    "\n",
    "def marcov_python(n, init_state):\n",
    "    x = np.empty(n)\n",
    "    x[0] = init_state\n",
    "    for t in range(1, n):\n",
    "        U = uniform(0,1)\n",
    "        if x[t-1] == 1: # high state\n",
    "            if U < 0.2: # with prob 0.2\n",
    "                x[t] = 0 # move to low state\n",
    "            else: # with prob 0.8\n",
    "                x[t] = 1 # stay in high state\n",
    "        else: # low state\n",
    "            if U < 0.1: # with prob 0.1\n",
    "                x[t] = 1 # move to high state\n",
    "            else: # with prob 0.9\n",
    "                x[t] = 0\n",
    "    return x"
   ]
  },
  {
   "cell_type": "code",
   "execution_count": 31,
   "metadata": {
    "collapsed": false
   },
   "outputs": [
    {
     "name": "stdout",
     "output_type": "stream",
     "text": [
      "10 loops, best of 3: 90.9 ms per loop\n"
     ]
    }
   ],
   "source": [
    "%%timeit\n",
    "x = marcov_python(100000, 0)\n",
    "1-np.mean(x)"
   ]
  },
  {
   "cell_type": "code",
   "execution_count": 29,
   "metadata": {
    "collapsed": true
   },
   "outputs": [],
   "source": [
    "from numba import jit\n",
    "\n",
    "marcov_numba = jit(marcov_python)"
   ]
  },
  {
   "cell_type": "code",
   "execution_count": 30,
   "metadata": {
    "collapsed": false
   },
   "outputs": [
    {
     "name": "stdout",
     "output_type": "stream",
     "text": [
      "The slowest run took 97.53 times longer than the fastest. This could mean that an intermediate result is being cached \n",
      "1000 loops, best of 3: 1.28 ms per loop\n"
     ]
    }
   ],
   "source": [
    "%%timeit\n",
    "x = marcov_numba(100000, 0)\n",
    "1-np.mean(x)"
   ]
  },
  {
   "cell_type": "code",
   "execution_count": null,
   "metadata": {
    "collapsed": true
   },
   "outputs": [],
   "source": []
  }
 ],
 "metadata": {
  "kernelspec": {
   "display_name": "Python 3",
   "language": "python",
   "name": "python3"
  },
  "language_info": {
   "codemirror_mode": {
    "name": "ipython",
    "version": 3
   },
   "file_extension": ".py",
   "mimetype": "text/x-python",
   "name": "python",
   "nbconvert_exporter": "python",
   "pygments_lexer": "ipython3",
   "version": "3.4.3"
  }
 },
 "nbformat": 4,
 "nbformat_minor": 0
}
